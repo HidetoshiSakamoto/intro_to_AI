{
 "cells": [
  {
   "cell_type": "code",
   "execution_count": 1,
   "metadata": {},
   "outputs": [],
   "source": [
    "import numpy as np\n",
    "import pickle as pkl\n",
    "import random"
   ]
  },
  {
   "cell_type": "code",
   "execution_count": 2,
   "metadata": {},
   "outputs": [],
   "source": [
    "def affine(z, W, b):\n",
    "    return np.dot(z, W) + b\n",
    "\n",
    "def sigmoid(z):\n",
    "    return 1.0 / (1.0 + np.exp(-z))\n",
    "\n",
    "def softmax(u):\n",
    "    max_u = np.max(u, axis=1, keepdims=True)\n",
    "    exp_u = np.exp(u-max_u)\n",
    "    return exp_u/np.sum(exp_u, axis=1, keepdims=True)\n",
    "\n",
    "def cross_entropy_loss(yhat, y):\n",
    "    return -np.sum(y * np.log(yhat))\n",
    "\n",
    "def softmax_cross_entropy_error_back(y, t):\n",
    "    return (y - t)/y.shape[0]\n",
    "\n",
    "def make_one_hot(d):\n",
    "    return np.eye(10)[d]"
   ]
  },
  {
   "cell_type": "code",
   "execution_count": 10,
   "metadata": {},
   "outputs": [],
   "source": [
    "model = Digits_Model(60000, 728, 16, 10)"
   ]
  },
  {
   "cell_type": "code",
   "execution_count": 9,
   "metadata": {
    "code_folding": [
     44,
     49
    ]
   },
   "outputs": [],
   "source": [
    "class Digits_Model:\n",
    "    def __init__(self, n_data=None, dim_input=None, dim_hidden=None, dim_out=None, weights1=None, weights2=None, bias1=None, bias2=None,\\\n",
    "                 activation1=(lambda x: x), activation2=(lambda x: x)):\n",
    "        '''\n",
    "        self._dim = dimension\n",
    "        self.w = weights or np.random.normal(size=self._dim)\n",
    "        self.w = np.array(self.w)\n",
    "        self.b = bias if bias is not None else np.random.normal()\n",
    "        self._a = activation\n",
    "        self.predict = predict.__get__(self)\n",
    "        '''\n",
    "        self.n_data = n_data\n",
    "        self.dim_input = dim_input\n",
    "        self.dim_hidden = dim_hidden\n",
    "        self.dim_out = dim_out\n",
    "        self._a1 = activation1\n",
    "        self._a2 = activation2\n",
    "        \n",
    "        self.W1 = np.random.normal(size=(dim_input, dim_hidden))\n",
    "        self.b1 = np.random.normal(size=(n_data, dim_hidden))\n",
    "        self.W2 = np.random.normal(size=(dim_hidden, dim_out))\n",
    "        self.b2 = np.random.normal(size=((n_data, dim_out)))\n",
    "\n",
    "    def __str__(self):\n",
    "        info = \"Single hidden layer nn\\n\\\n",
    "        \\tInput dimension: %d\\n\\\n",
    "        \\tHidden layer dimension: %d\\n\\\n",
    "        \\tOutput layer dimension: %d\\n\\\n",
    "        \\tActivation1: %s\\n\\\n",
    "        \\tActivation2: %s\" % (self.dim_input, self.dim_hidden, self.dim_out,self._a1.__name__, self._a2.__name__)\n",
    "        return info\n",
    "\n",
    "    def __call__(self, X0):\n",
    "        Z1 = affine(X0, self.W1, self.b1)\n",
    "        X1 = sigmoid(Z1)\n",
    "        Z2 = affine(X1, self.W2, self.b2)\n",
    "        yhat = softmax(Z2)\n",
    "        return yhat\n",
    "\n",
    "    def predict(self, X0):\n",
    "        yhat = self.__call__(X0)\n",
    "        d = np.argmax(yhat, axis=1)\n",
    "        return d\n",
    "\n",
    "    def load_model(self, file_path):\n",
    "        '''\n",
    "        open the pickle file and update the model's parameters\n",
    "        '''\n",
    "        pass\n",
    "    def save_model(self):\n",
    "        '''\n",
    "        save your model as 'sonar_model.pkl' in the local path\n",
    "        '''\n",
    "        pass"
   ]
  },
  {
   "cell_type": "code",
   "execution_count": 4,
   "metadata": {
    "code_folding": [
     0
    ]
   },
   "outputs": [],
   "source": [
    "class Digits_Trainer:\n",
    "\n",
    "    def __init__(self, dataset, model):\n",
    "\n",
    "        pass\n",
    "\n",
    "    def accuracy(self, data):\n",
    "        '''\n",
    "        return the accuracy on data given data iterator\n",
    "        '''\n",
    "        acc = None\n",
    "        return acc\n",
    "\n",
    "    def train(self, lr, ne):\n",
    "\n",
    "        '''\n",
    "        This method should:\n",
    "        1. display initial accuracy on the training data loaded in the constructor\n",
    "        2. update parameters of the model instance in a loop for ne epochs using lr learning rate\n",
    "        3. display final accuracy\n",
    "        '''"
   ]
  },
  {
   "cell_type": "code",
   "execution_count": 5,
   "metadata": {
    "code_folding": [
     0
    ]
   },
   "outputs": [],
   "source": [
    "class Digits_Data:\n",
    "\n",
    "    def __init__(self, relative_path='../../data/assignment1/', data_file_name='digits_data.pkl', batch_size=None):\n",
    "        '''\n",
    "        initialize self.index; load and preprocess data; shuffle the iterator\n",
    "        '''\n",
    "        pass\n",
    "\n",
    "    def __iter__(self):\n",
    "        '''\n",
    "        See example code (ngram) in lecture slides\n",
    "        '''\n",
    "        return self\n",
    "\n",
    "    def __next__(self):\n",
    "        '''\n",
    "        See example code (ngram) in slides\n",
    "        '''\n",
    "        return\n",
    "\n",
    "    def _shuffle(self):\n",
    "        '''\n",
    "        shuffle the data iterator\n",
    "        '''\n",
    "        pass"
   ]
  },
  {
   "cell_type": "code",
   "execution_count": 6,
   "metadata": {
    "code_folding": [
     0,
     8
    ]
   },
   "outputs": [
    {
     "ename": "NameError",
     "evalue": "name 'Sonar_Data' is not defined",
     "output_type": "error",
     "traceback": [
      "\u001b[0;31m---------------------------------------------------------------------------\u001b[0m",
      "\u001b[0;31mNameError\u001b[0m                                 Traceback (most recent call last)",
      "\u001b[0;32m<ipython-input-6-94beb5115a18>\u001b[0m in \u001b[0;36m<module>\u001b[0;34m\u001b[0m\n\u001b[1;32m      9\u001b[0m \u001b[0;32mif\u001b[0m \u001b[0m__name__\u001b[0m \u001b[0;34m==\u001b[0m \u001b[0;34m'__main__'\u001b[0m\u001b[0;34m:\u001b[0m\u001b[0;34m\u001b[0m\u001b[0m\n\u001b[1;32m     10\u001b[0m \u001b[0;34m\u001b[0m\u001b[0m\n\u001b[0;32m---> 11\u001b[0;31m     \u001b[0mmain\u001b[0m\u001b[0;34m(\u001b[0m\u001b[0;34m)\u001b[0m\u001b[0;34m\u001b[0m\u001b[0m\n\u001b[0m",
      "\u001b[0;32m<ipython-input-6-94beb5115a18>\u001b[0m in \u001b[0;36mmain\u001b[0;34m()\u001b[0m\n\u001b[1;32m      1\u001b[0m \u001b[0;32mdef\u001b[0m \u001b[0mmain\u001b[0m\u001b[0;34m(\u001b[0m\u001b[0;34m)\u001b[0m\u001b[0;34m:\u001b[0m\u001b[0;34m\u001b[0m\u001b[0m\n\u001b[1;32m      2\u001b[0m \u001b[0;34m\u001b[0m\u001b[0m\n\u001b[0;32m----> 3\u001b[0;31m     \u001b[0mdata\u001b[0m \u001b[0;34m=\u001b[0m \u001b[0mSonar_Data\u001b[0m\u001b[0;34m(\u001b[0m\u001b[0;34m)\u001b[0m\u001b[0;34m\u001b[0m\u001b[0m\n\u001b[0m\u001b[1;32m      4\u001b[0m     \u001b[0mmodel\u001b[0m \u001b[0;34m=\u001b[0m \u001b[0mSonar_Model\u001b[0m\u001b[0;34m(\u001b[0m\u001b[0;34m)\u001b[0m  \u001b[0;31m# specify the necessary arguments\u001b[0m\u001b[0;34m\u001b[0m\u001b[0m\n\u001b[1;32m      5\u001b[0m     \u001b[0mtrainer\u001b[0m \u001b[0;34m=\u001b[0m \u001b[0mSonar_Trainer\u001b[0m\u001b[0;34m(\u001b[0m\u001b[0mdata\u001b[0m\u001b[0;34m,\u001b[0m \u001b[0mmodel\u001b[0m\u001b[0;34m)\u001b[0m\u001b[0;34m\u001b[0m\u001b[0m\n",
      "\u001b[0;31mNameError\u001b[0m: name 'Sonar_Data' is not defined"
     ]
    }
   ],
   "source": [
    "def main():\n",
    "\n",
    "    data = Sonar_Data()\n",
    "    model = Sonar_Model()  # specify the necessary arguments\n",
    "    trainer = Sonar_Trainer(data, model)\n",
    "    trainer.train() # experiment with learning rate and number of epochs\n",
    "    model.save_model()\n",
    "\n",
    "if __name__ == '__main__':\n",
    "\n",
    "    main()"
   ]
  },
  {
   "cell_type": "markdown",
   "metadata": {},
   "source": [
    "---"
   ]
  },
  {
   "cell_type": "code",
   "execution_count": 11,
   "metadata": {},
   "outputs": [],
   "source": [
    "with open('../../data/assignment1/digits_data.pkl', 'rb') as f:\n",
    "    data_raw = pkl.load(f)"
   ]
  },
  {
   "cell_type": "code",
   "execution_count": 12,
   "metadata": {},
   "outputs": [],
   "source": [
    "data = []\n",
    "type_ = 'train'\n",
    "for k, v in data_raw[type_].items():\n",
    "    for arr in v:\n",
    "        data.append((np.ravel(arr)/255, make_one_hot(k)))"
   ]
  },
  {
   "cell_type": "code",
   "execution_count": 13,
   "metadata": {},
   "outputs": [],
   "source": [
    "def affine(X, W, b):\n",
    "    return np.dot(X, W) + b"
   ]
  },
  {
   "cell_type": "code",
   "execution_count": 14,
   "metadata": {},
   "outputs": [],
   "source": [
    "dim = 16"
   ]
  },
  {
   "cell_type": "code",
   "execution_count": 15,
   "metadata": {},
   "outputs": [],
   "source": [
    "X0 = np.array([tup[0] for tup in data])\n",
    "y = np.array([tup[1] for tup in data])"
   ]
  },
  {
   "cell_type": "code",
   "execution_count": 17,
   "metadata": {},
   "outputs": [],
   "source": [
    "W1 = np.random.normal(size=(784, dim))\n",
    "b1 = np.random.normal(size=(60000, dim))\n",
    "W2 = np.random.normal(size=(dim, 10))\n",
    "b2 = np.random.normal(size=((60000, 10)))"
   ]
  },
  {
   "cell_type": "code",
   "execution_count": 18,
   "metadata": {
    "code_folding": []
   },
   "outputs": [],
   "source": [
    "def forward(X0, dim):\n",
    "    Z1 = affine(X0, W1, b1)\n",
    "    X1 = sigmoid(Z1)\n",
    "    Z2 = affine(X1, W2, b2)\n",
    "    yhat = softmax(Z2)\n",
    "    return Z1, X1, Z2, yhat"
   ]
  },
  {
   "cell_type": "code",
   "execution_count": 19,
   "metadata": {
    "code_folding": []
   },
   "outputs": [],
   "source": [
    "def cross_entropy_loss(yhat, y):\n",
    "    return -np.sum(y * np.log(yhat))"
   ]
  },
  {
   "cell_type": "code",
   "execution_count": 20,
   "metadata": {
    "code_folding": [
     0,
     2,
     4
    ]
   },
   "outputs": [],
   "source": [
    "def dsigmoid(x):\n",
    "    return (1.0 - sigmoid(x)) * sigmoid(x)\n",
    "def calc_delta_hidden(Z, D, W):\n",
    "    return dsigmoid(Z) * np.dot(D, W)\n",
    "def softmax_cross_entropy_error_back(yhat, y):\n",
    "    return (yhat - y)/y.shape[0]"
   ]
  },
  {
   "cell_type": "code",
   "execution_count": 21,
   "metadata": {
    "code_folding": [
     0,
     2
    ]
   },
   "outputs": [],
   "source": [
    "def dweight(D, X):\n",
    "    return np.dot(D.T, X)\n",
    "def dbias(D):\n",
    "    return D.sum(axis=0)"
   ]
  },
  {
   "cell_type": "code",
   "execution_count": 25,
   "metadata": {
    "code_folding": [
     0
    ]
   },
   "outputs": [],
   "source": [
    "def backward(yhat, y, X1, W2):\n",
    "    d_output = softmax_cross_entropy_error_back(yhat,y)\n",
    "    d_hidden = calc_delta_hidden(X1,d_output, W2.T)\n",
    "    return d_output, d_hidden"
   ]
  },
  {
   "cell_type": "code",
   "execution_count": 26,
   "metadata": {
    "code_folding": [
     0
    ]
   },
   "outputs": [],
   "source": [
    "def update_params(delta_output, delta_hidden, X1, X0):\n",
    "    global W2, W1,b2, b1\n",
    "\n",
    "    W2 = W2 - lr * dweight(X1, delta_output)\n",
    "    W1 = W1 - lr * dweight(X0, delta_hidden)\n",
    "\n",
    "    b2 = b2 - lr * dbias(delta_output)\n",
    "    b1 = b1 - lr * dbias(delta_hidden)"
   ]
  },
  {
   "cell_type": "code",
   "execution_count": 27,
   "metadata": {},
   "outputs": [
    {
     "name": "stdout",
     "output_type": "stream",
     "text": [
      "242729.76047875648\n",
      "128723.29538709018\n",
      "104158.77531450798\n",
      "90725.23778521438\n",
      "81690.43994758771\n",
      "74975.14337448646\n",
      "69772.70801765095\n",
      "65674.06774245016\n",
      "62436.320716367874\n",
      "59918.29015629382\n",
      "57972.50958445203\n",
      "56479.29566993227\n",
      "55321.158842979414\n",
      "54424.032550299395\n",
      "53746.944790717505\n",
      "53244.15400423825\n",
      "52865.4290952784\n",
      "52571.98683510615\n",
      "52340.25736864203\n",
      "52148.49048731715\n",
      "51978.60617681632\n",
      "51826.2207021005\n",
      "51692.39378041533\n",
      "51575.70496789091\n",
      "51471.66947545905\n",
      "51372.02306408201\n",
      "51274.087660778954\n",
      "51176.05771279399\n",
      "51076.20117316523\n",
      "50972.92463138537\n",
      "50862.76994591501\n",
      "50743.32862850175\n",
      "50616.34143936125\n",
      "50487.651511897326\n",
      "50362.82217295497\n",
      "50239.629913123215\n",
      "50114.04463448428\n",
      "49987.919390107774\n",
      "49861.25693732783\n",
      "49734.545726096316\n",
      "49609.80526542886\n",
      "49486.941561263586\n",
      "49366.46600656216\n",
      "49252.312003169296\n",
      "49145.89627907932\n",
      "49046.81489235339\n",
      "48955.086173562486\n",
      "48865.205176629635\n",
      "48774.73382231597\n",
      "48685.49741913012\n"
     ]
    }
   ],
   "source": [
    "loss = []\n",
    "lr = 0.5\n",
    "for i in range(10**3):\n",
    "    Z1, X1, Z2, yhat = forward(X0, dim)\n",
    "    delta_output, delta_hidden = backward(yhat, y, X1, W2)\n",
    "\n",
    "    update_params(delta_output, delta_hidden, X1, X0)\n",
    "    \n",
    "    loss.append(cross_entropy_loss(yhat, y))\n",
    "    if i % 20 == 0:\n",
    "        print(cross_entropy_loss(yhat, y))"
   ]
  },
  {
   "cell_type": "code",
   "execution_count": 29,
   "metadata": {},
   "outputs": [],
   "source": [
    "from matplotlib import pyplot as plt"
   ]
  },
  {
   "cell_type": "code",
   "execution_count": 30,
   "metadata": {},
   "outputs": [
    {
     "data": {
      "text/plain": [
       "[<matplotlib.lines.Line2D at 0x11b43d320>]"
      ]
     },
     "execution_count": 30,
     "metadata": {},
     "output_type": "execute_result"
    },
    {
     "data": {
      "image/png": "[encoded data removed]",
      "text/plain": [
       "<Figure size 432x288 with 1 Axes>"
      ]
     },
     "metadata": {
      "needs_background": "light"
     },
     "output_type": "display_data"
    }
   ],
   "source": [
    "plt.plot(loss)"
   ]
  },
  {
   "cell_type": "code",
   "execution_count": null,
   "metadata": {},
   "outputs": [],
   "source": []
  },
  {
   "cell_type": "code",
   "execution_count": null,
   "metadata": {},
   "outputs": [],
   "source": []
  },
  {
   "cell_type": "code",
   "execution_count": null,
   "metadata": {},
   "outputs": [],
   "source": []
  },
  {
   "cell_type": "code",
   "execution_count": null,
   "metadata": {},
   "outputs": [],
   "source": []
  },
  {
   "cell_type": "code",
   "execution_count": null,
   "metadata": {},
   "outputs": [],
   "source": []
  },
  {
   "cell_type": "code",
   "execution_count": 31,
   "metadata": {},
   "outputs": [],
   "source": [
    "def accuracy_rate(yhat, y):\n",
    "    max_yhat = np.argmax(yhat, axis=1)\n",
    "    max_y = np.argmax(y, axis=1)\n",
    "    return np.sum(max_yhat == max_y)/y.shape[0]"
   ]
  },
  {
   "cell_type": "code",
   "execution_count": 32,
   "metadata": {},
   "outputs": [
    {
     "data": {
      "text/plain": [
       "0.74445"
      ]
     },
     "execution_count": 32,
     "metadata": {},
     "output_type": "execute_result"
    }
   ],
   "source": [
    "accuracy_rate(yhat, y)"
   ]
  },
  {
   "cell_type": "code",
   "execution_count": null,
   "metadata": {},
   "outputs": [],
   "source": []
  }
 ],
 "metadata": {
  "kernelspec": {
   "display_name": "Python 3",
   "language": "python",
   "name": "python3"
  },
  "language_info": {
   "codemirror_mode": {
    "name": "ipython",
    "version": 3
   },
   "file_extension": ".py",
   "mimetype": "text/x-python",
   "name": "python",
   "nbconvert_exporter": "python",
   "pygments_lexer": "ipython3",
   "version": "3.6.0"
  }
 },
 "nbformat": 4,
 "nbformat_minor": 2
}
