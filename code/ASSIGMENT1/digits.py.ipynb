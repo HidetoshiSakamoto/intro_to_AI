{
 "cells": [
  {
   "cell_type": "code",
   "execution_count": 22,
   "metadata": {},
   "outputs": [],
   "source": [
    "import numpy as np\n",
    "import pickle as pkl\n",
    "import random"
   ]
  },
  {
   "cell_type": "code",
   "execution_count": null,
   "metadata": {
    "code_folding": []
   },
   "outputs": [],
   "source": [
    "class Digits_Model:\n",
    "    def sigmoid(z):\n",
    "        return 1.0 / (1.0 + np.exp(-z))\n",
    "\n",
    "    def softmax(u):\n",
    "        return np.exp(z) / np.sum(np.exp(z))\n",
    "\n",
    "    def cross_entropy_loss(yhat, y):\n",
    "        return -np.sum(y * np.log(yhat))\n",
    "\n",
    "    def softmax_cross_entropy_error_back(y, t):\n",
    "        return (y - t)/y.shape[0]\n",
    "\n",
    "    def make_one_hot(d):\n",
    "        return np.eye(10)[d]\n",
    "\n",
    "    def __init__(self, dim_input=None, dim_hidden=None, dim_out=None, weights1=None, weights2=None, bias1=None, bias2=None, activation1=(lambda x: x), activation2=(lambda x: x)):\n",
    "\n",
    "        pass\n",
    "\n",
    "    def __str__(self):\n",
    "        '''\n",
    "        display the model's information\n",
    "        '''\n",
    "        info = \"\"\n",
    "        return info\n",
    "\n",
    "    def __call__(self, x):\n",
    "        '''\n",
    "        return the output of the model for a given input\n",
    "        '''\n",
    "        yhat = None\n",
    "        return yhat\n",
    "\n",
    "    def predict(self, x):\n",
    "        '''\n",
    "        returns a digit\n",
    "        '''\n",
    "        d = None\n",
    "        return d\n",
    "\n",
    "    def load_model(self, file_path):\n",
    "        '''\n",
    "        open the pickle file and update the model's parameters\n",
    "        '''\n",
    "        pass\n",
    "\n",
    "    def save_model(self):\n",
    "        '''\n",
    "        save your model as 'sonar_model.pkl' in the local path\n",
    "        '''\n",
    "        pass"
   ]
  },
  {
   "cell_type": "code",
   "execution_count": null,
   "metadata": {
    "code_folding": [
     0
    ]
   },
   "outputs": [],
   "source": [
    "class Digits_Trainer:\n",
    "\n",
    "    def __init__(self, dataset, model):\n",
    "\n",
    "        pass\n",
    "\n",
    "    def accuracy(self, data):\n",
    "        '''\n",
    "        return the accuracy on data given data iterator\n",
    "        '''\n",
    "        acc = None\n",
    "        return acc\n",
    "\n",
    "    def train(self, lr, ne):\n",
    "\n",
    "        '''\n",
    "        This method should:\n",
    "        1. display initial accuracy on the training data loaded in the constructor\n",
    "        2. update parameters of the model instance in a loop for ne epochs using lr learning rate\n",
    "        3. display final accuracy\n",
    "        '''"
   ]
  },
  {
   "cell_type": "code",
   "execution_count": null,
   "metadata": {
    "code_folding": [
     0
    ]
   },
   "outputs": [],
   "source": [
    "class Digits_Data:\n",
    "\n",
    "    def __init__(self, relative_path='../../data/assignment1/', data_file_name='digits_data.pkl', batch_size=None):\n",
    "        '''\n",
    "        initialize self.index; load and preprocess data; shuffle the iterator\n",
    "        '''\n",
    "        pass\n",
    "\n",
    "    def __iter__(self):\n",
    "        '''\n",
    "        See example code (ngram) in lecture slides\n",
    "        '''\n",
    "        return self\n",
    "\n",
    "    def __next__(self):\n",
    "        '''\n",
    "        See example code (ngram) in slides\n",
    "        '''\n",
    "        return\n",
    "\n",
    "    def _shuffle(self):\n",
    "        '''\n",
    "        shuffle the data iterator\n",
    "        '''\n",
    "        pass"
   ]
  },
  {
   "cell_type": "code",
   "execution_count": null,
   "metadata": {
    "code_folding": [
     0,
     8
    ]
   },
   "outputs": [],
   "source": [
    "def main():\n",
    "\n",
    "    data = Sonar_Data()\n",
    "    model = Sonar_Model()  # specify the necessary arguments\n",
    "    trainer = Sonar_Trainer(data, model)\n",
    "    trainer.train() # experiment with learning rate and number of epochs\n",
    "    model.save_model()\n",
    "\n",
    "if __name__ == '__main__':\n",
    "\n",
    "    main()"
   ]
  },
  {
   "cell_type": "code",
   "execution_count": 2,
   "metadata": {},
   "outputs": [],
   "source": [
    "with open('../../data/assignment1/digits_data.pkl', 'rb') as f:\n",
    "    data_raw = pkl.load(f)"
   ]
  },
  {
   "cell_type": "code",
   "execution_count": 27,
   "metadata": {},
   "outputs": [
    {
     "data": {
      "text/plain": [
       "(10, 10)"
      ]
     },
     "execution_count": 27,
     "metadata": {},
     "output_type": "execute_result"
    }
   ],
   "source": [
    "np.eye(10)"
   ]
  },
  {
   "cell_type": "code",
   "execution_count": null,
   "metadata": {},
   "outputs": [],
   "source": []
  }
 ],
 "metadata": {
  "kernelspec": {
   "display_name": "Python 3",
   "language": "python",
   "name": "python3"
  },
  "language_info": {
   "codemirror_mode": {
    "name": "ipython",
    "version": 3
   },
   "file_extension": ".py",
   "mimetype": "text/x-python",
   "name": "python",
   "nbconvert_exporter": "python",
   "pygments_lexer": "ipython3",
   "version": "3.6.0"
  }
 },
 "nbformat": 4,
 "nbformat_minor": 2
}
