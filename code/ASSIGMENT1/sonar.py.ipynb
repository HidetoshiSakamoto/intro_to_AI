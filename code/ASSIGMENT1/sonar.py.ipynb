{
 "cells": [
  {
   "cell_type": "code",
   "execution_count": 72,
   "metadata": {},
   "outputs": [],
   "source": [
    "import numpy as np\n",
    "import pickle as pkl\n",
    "import random"
   ]
  },
  {
   "cell_type": "code",
   "execution_count": 79,
   "metadata": {},
   "outputs": [],
   "source": [
    "def perceptron(z):\n",
    "    return -1 if z<=0 else 1\n",
    "\n",
    "def ppredict(self, x):\n",
    "    return self(x)"
   ]
  },
  {
   "cell_type": "code",
   "execution_count": 73,
   "metadata": {
    "code_folding": []
   },
   "outputs": [],
   "source": [
    "class Sonar_Model:\n",
    "\n",
    "    def __init__(self, dimension=None, weights=None, bias=None, activation=(lambda x: x), (lambda x: x)):\n",
    "        self._dim = dimension\n",
    "        self.w = weights or np.random.normal(size=self._dim)\n",
    "        self.w = np.array(self.w)\n",
    "        self.b = bias if bias is not None else np.random.normal()\n",
    "        self._a = activation\n",
    "        self.predict = predict.__get__(self)\n",
    "\n",
    "    def __str__(self):\n",
    "        info = \"Simple cell neuron\\n\\\n",
    "        \\tInput dimension: %d\\n\\\n",
    "        \\tBias: %f\\n\\\n",
    "        \\tWeights: %s\\n\\\n",
    "        \\tActivation: %s\" % (self._dim, self.b, self.w, self._a.__name__)\n",
    "        return info\n",
    "\n",
    "    def __call__(self, x):\n",
    "        yhat = self._a(np.dot(self.w, np.array(x)) + self.b)\n",
    "        return yhat\n",
    "\n",
    "    def load_model(self, file_path):\n",
    "        with open(file_path, mode='rb') as f:\n",
    "            saved_model = pkl.load(f)\n",
    "        return saved_model\n",
    "    \n",
    "    def save_model(self, file_path):\n",
    "        with open(file_path, mode='wb') as f:\n",
    "            pkl.dump(self, f)"
   ]
  },
  {
   "cell_type": "code",
   "execution_count": 74,
   "metadata": {
    "code_folding": [
     0
    ]
   },
   "outputs": [],
   "source": [
    "class Sonar_Trainer:\n",
    "    \n",
    "    def ploss(yhat, y):\n",
    "        return max(0, -yhat*y)\n",
    "\n",
    "    def __init__(self,model, loss = ploss):\n",
    "        self.model = model\n",
    "        self.loss = loss\n",
    "        \n",
    "    def accuracy(self, data):\n",
    "        acc = 100*np.mean([1 if self.model.predict(x) == y else 0 for x, y in data])\n",
    "        return acc\n",
    "\n",
    "    def train(self, lr, ne):\n",
    "        accuracy = self.accuracy(Sonar_Data())\n",
    "        print(\"initial accuracy: %.3f\" % (accuracy))\n",
    "        \n",
    "        for epoch in range(ne):\n",
    "            data_tmp = Sonar_Data()\n",
    "            data_tmp._shuffle()\n",
    "            for d in data_tmp:\n",
    "                x, y = d\n",
    "                x = np.array(x)\n",
    "                yhat = self.model(x)\n",
    "                error = y - yhat\n",
    "                self.model.w += lr*(y-yhat)*x\n",
    "                self.model.b += lr*(y-yhat)\n",
    "            accuracy = self.accuracy(Sonar_Data())\n",
    "            \n",
    "            if (epoch + 1) % 100 == 0:\n",
    "                print('>epoch=%d, learning_rate=%.4f, accuracy=%.3f' % (epoch+1, lr, accuracy))\n",
    "            \n",
    "        print(\"training complete\")\n",
    "        print(\"final accuracy: %.3f\" % (self.accuracy(Sonar_Data())))"
   ]
  },
  {
   "cell_type": "code",
   "execution_count": 77,
   "metadata": {
    "code_folding": []
   },
   "outputs": [],
   "source": [
    "class Sonar_Data:\n",
    "    \n",
    "    def __init__(self, relative_path='../../data/assignment1', data_file_name='sonar_data.pkl'):\n",
    "        with open(\"{}/{}\".format(relative_path, data_file_name), 'rb') as f:\n",
    "            data_raw = pkl.load(f) \n",
    "        \n",
    "        mu = np.ravel([f for i in list(data_raw.values()) for f in i]).mean()\n",
    "        std = np.ravel([f for i in list(data_raw.values()) for f in i]).std()\n",
    "    \n",
    "        def standardize(x, mu, std):\n",
    "            return (x - mu)/std\n",
    "    \n",
    "        data = []\n",
    "        for k, v in data_raw.items():\n",
    "            for arr in v:\n",
    "                data.append((standardize(arr, mu, std), 1 if k == 'r' else -1))\n",
    "        \n",
    "        self.index = 0\n",
    "        self.data = data\n",
    "        self.n_data = len(data)\n",
    "        \n",
    "    def __iter__(self):\n",
    "        return self\n",
    "\n",
    "    def __next__(self):\n",
    "        if self.index == self.n_data - 1:\n",
    "            raise StopIteration\n",
    "        self.index += 1    \n",
    "        return self.data[self.index]\n",
    "\n",
    "    def _shuffle(self):\n",
    "            self.data = np.random.permutation(self.data)"
   ]
  },
  {
   "cell_type": "code",
   "execution_count": 80,
   "metadata": {
    "code_folding": []
   },
   "outputs": [
    {
     "name": "stdout",
     "output_type": "stream",
     "text": [
      "initial accuracy: 47.343\n",
      ">epoch=100, learning_rate=0.0001, accuracy=59.420\n",
      ">epoch=200, learning_rate=0.0001, accuracy=67.150\n",
      ">epoch=300, learning_rate=0.0001, accuracy=71.014\n",
      ">epoch=400, learning_rate=0.0001, accuracy=72.947\n",
      ">epoch=500, learning_rate=0.0001, accuracy=72.947\n",
      ">epoch=600, learning_rate=0.0001, accuracy=75.362\n",
      ">epoch=700, learning_rate=0.0001, accuracy=75.845\n",
      ">epoch=800, learning_rate=0.0001, accuracy=78.261\n",
      ">epoch=900, learning_rate=0.0001, accuracy=79.710\n",
      ">epoch=1000, learning_rate=0.0001, accuracy=78.261\n",
      "training complete\n",
      "final accuracy: 78.261\n"
     ]
    }
   ],
   "source": [
    "def main():\n",
    "\n",
    "    model = Sonar_Model(dimension=60, activation=perceptron, predict=ppredict)\n",
    "    trainer = Sonar_Trainer(model)\n",
    "    trainer.train(1e-4, 10**3)\n",
    "    model.save_model('./saved_models/sonar_model.pkl')\n",
    "    \n",
    "if __name__ == '__main__':\n",
    "    main()"
   ]
  },
  {
   "cell_type": "code",
   "execution_count": null,
   "metadata": {},
   "outputs": [],
   "source": []
  },
  {
   "cell_type": "code",
   "execution_count": null,
   "metadata": {},
   "outputs": [],
   "source": []
  },
  {
   "cell_type": "code",
   "execution_count": null,
   "metadata": {},
   "outputs": [],
   "source": [
    "I "
   ]
  }
 ],
 "metadata": {
  "kernelspec": {
   "display_name": "Python 3",
   "language": "python",
   "name": "python3"
  },
  "language_info": {
   "codemirror_mode": {
    "name": "ipython",
    "version": 3
   },
   "file_extension": ".py",
   "mimetype": "text/x-python",
   "name": "python",
   "nbconvert_exporter": "python",
   "pygments_lexer": "ipython3",
   "version": "3.6.0"
  }
 },
 "nbformat": 4,
 "nbformat_minor": 2
}
