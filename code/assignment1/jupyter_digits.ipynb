{
 "cells": [
  {
   "cell_type": "code",
   "execution_count": 14,
   "metadata": {},
   "outputs": [],
   "source": [
    "import numpy as np\n",
    "import pickle as pkl\n",
    "import random\n",
    "import os"
   ]
  },
  {
   "cell_type": "code",
   "execution_count": 9,
   "metadata": {
    "code_folding": [
     0,
     3,
     6,
     11
    ]
   },
   "outputs": [],
   "source": [
    "def affine(z, W, b):\n",
    "    return np.dot(z, W) + b\n",
    "\n",
    "def sigmoid(z):\n",
    "    return 1.0 / (1.0 + np.exp(-z))\n",
    "\n",
    "def softmax(u):\n",
    "    max_u = np.max(u, axis=1, keepdims=True)\n",
    "    exp_u = np.exp(u-max_u)\n",
    "    return exp_u/np.sum(exp_u, axis=1, keepdims=True)\n",
    "\n",
    "def make_one_hot(d):\n",
    "    return np.eye(10)[d]"
   ]
  },
  {
   "cell_type": "code",
   "execution_count": 10,
   "metadata": {
    "code_folding": [
     1,
     15
    ]
   },
   "outputs": [],
   "source": [
    "class Digits_Model:\n",
    "    def __init__(self, n_data=None, dim_input=None, dim_hidden=None, dim_out=None, weights1=None, weights2=None, bias1=None, bias2=None,\\\n",
    "                 activation1=(lambda x: x), activation2=(lambda x: x)):\n",
    "        self.n_data = n_data\n",
    "        self.dim_input = dim_input\n",
    "        self.dim_hidden = dim_hidden\n",
    "        self.dim_out = dim_out\n",
    "        \n",
    "        self.W1 = np.random.normal(size=(dim_input, dim_hidden))\n",
    "        self.b1 = np.random.normal(size=(n_data, dim_hidden))\n",
    "        self.W2 = np.random.normal(size=(dim_hidden, dim_out))\n",
    "        self.b2 = np.random.normal(size=((n_data, dim_out)))\n",
    "        self._a1 = activation1\n",
    "        self._a2 = activation2\n",
    "        \n",
    "    def __str__(self):\n",
    "        info = \"Single hidden layer nn\\n\\\n",
    "        \\tInput dimension: %d\\n\\\n",
    "        \\tHidden layer dimension: %d\\n\\\n",
    "        \\tOutput layer dimension: %d\\n\\\n",
    "        \\tActivation1: %s\\n\\\n",
    "        \\tActivation2: %s\" % (self.dim_input, self.dim_hidden, self.dim_out,self._a1.__name__, self._a2.__name__)\n",
    "        return info\n",
    "    \n",
    "    def affine(z, W, b):\n",
    "        return np.dot(z, W) + b\n",
    "\n",
    "    def __call__(self, X0):\n",
    "        Z1 = affine(X0, self.W1, self.b1)\n",
    "        X1 = sigmoid(Z1)\n",
    "        Z2 = affine(X1, self.W2, self.b2)\n",
    "        yhat = softmax(Z2)\n",
    "        return yhat\n",
    "\n",
    "    def predict(self, X0):\n",
    "        yhat = self(X0)\n",
    "        d = np.argmax(yhat, axis=1)\n",
    "        return d\n",
    "\n",
    "    def load_model(self, file_path):\n",
    "        with open(file_path, mode='rb') as f:\n",
    "            saved_model = pkl.load(f)\n",
    "        return saved_model\n",
    "\n",
    "    def save_model(self):\n",
    "        with open(file_path, mode='wb') as f:\n",
    "            pkl.dump(self, f)"
   ]
  },
  {
   "cell_type": "code",
   "execution_count": 11,
   "metadata": {
    "code_folding": [
     0
    ]
   },
   "outputs": [],
   "source": [
    "class Digits_Data:\n",
    "\n",
    "    def __init__(self, relative_path='../../data/assignment1/', data_file_name='digits_data.pkl', batch_size=None):\n",
    "        with open(\"{}/{}\".format(relative_path, data_file_name), 'rb') as f:\n",
    "            data_raw = pkl.load(f) \n",
    "            \n",
    "        data = []\n",
    "        type_ = 'train'\n",
    "        for k, v in data_raw[type_].items():\n",
    "            for arr in v:\n",
    "                data.append((np.ravel(arr)/255, make_one_hot(k)))\n",
    "        \n",
    "        \n",
    "        self.index = -1\n",
    "        self.data = np.array(data)\n",
    "        self.n_data = self.data.shape[0]\n",
    "        \n",
    "    def __iter__(self):\n",
    "        return self\n",
    "\n",
    "    def __next__(self):\n",
    "        self.index += 1   \n",
    "        if self.index == self.n_data:\n",
    "            raise StopIteration \n",
    "        return self.data[self.index]\n",
    "\n",
    "    def _shuffle(self):\n",
    "        self.data = np.random.permutation(self.data)"
   ]
  },
  {
   "cell_type": "code",
   "execution_count": 12,
   "metadata": {
    "code_folding": [
     0,
     18,
     20,
     24,
     26,
     28
    ]
   },
   "outputs": [],
   "source": [
    "class Digits_Trainer:\n",
    "\n",
    "    def __init__(self, dataset, model):\n",
    "        data = [d for d in dataset]\n",
    "        self.X0 = np.array([d[0] for d in data])\n",
    "        self.y = np.array([d[1] for d in data])\n",
    "        self.model = model\n",
    "\n",
    "    def accuracy(self):\n",
    "        max_yhat = self.model.predict(self.X0)\n",
    "        max_y = np.argmax(self.y, axis=1)\n",
    "        return 100*np.sum(max_yhat == max_y)/len(self.y)\n",
    "    def forward(self, X0):\n",
    "        Z1 = affine(X0, self.model.W1, self.model.b1)\n",
    "        X1 = sigmoid(Z1)\n",
    "        Z2 = affine(X1, self.model.W2, self.model.b2)\n",
    "        yhat = softmax(Z2)\n",
    "        return Z1, X1, Z2, yhat\n",
    "    def cross_entropy_loss(self, yhat, y):\n",
    "        return -np.sum(y * np.log(yhat))\n",
    "    def dsigmoid(self, x):\n",
    "        return (1.0 - sigmoid(x)) * sigmoid(x)    \n",
    "    def calc_delta_hidden(self, Z, D, W):\n",
    "        return self.dsigmoid(Z) * np.dot(D, W)\n",
    "    def softmax_cross_entropy_error_back(self, yhat, y):\n",
    "        return (yhat - y)/y.shape[0]\n",
    "    def dweight(self, D, X):\n",
    "        return np.dot(D.T, X)\n",
    "    def dbias(self, D):\n",
    "        return D.sum(axis=0)          \n",
    "    def backward(self, yhat, y, X1, W2):\n",
    "        d_output = self.softmax_cross_entropy_error_back(yhat,y)\n",
    "        d_hidden = self.calc_delta_hidden(X1,d_output, W2.T)\n",
    "        return d_output, d_hidden\n",
    "    def update_params(self, delta_output, delta_hidden, X1, X0, lr):\n",
    "        W2 = self.model.W2 - lr * self.dweight(X1, delta_output)\n",
    "        W1 = self.model.W1 - lr * self.dweight(X0, delta_hidden)\n",
    "        b2 = self.model.b2 - lr * self.dbias(delta_output)\n",
    "        b1 = self.model.b1 - lr * self.dbias(delta_hidden)\n",
    "        return W2, W1, b2, b1\n",
    "    def train(self, lr, ne):\n",
    "        accuracy = self.accuracy()\n",
    "        print(\"initial accuracy: %.3f\" % (accuracy))\n",
    "        for i in range(ne):\n",
    "            Z1, X1, Z2, yhat = self.forward(self.X0)\n",
    "            delta_output, delta_hidden = self.backward(yhat,self.y, X1, self.model.W2)\n",
    "            self.model.W2, self.model.W1, self.model.b2, self.model.b1= self.update_params(delta_output, delta_hidden, X1,self.X0, lr)\n",
    "            if (i+1) % 100 == 0:\n",
    "                accuracy = self.accuracy()\n",
    "                print('>epoch=%d, learning_rate=%.3f, accuracy=%.3f' % (i+1, lr, accuracy))\n",
    "        print(\"training complete\")\n",
    "        print(\"final accuracy: %.3f\" % (self.accuracy()))"
   ]
  },
  {
   "cell_type": "code",
   "execution_count": 13,
   "metadata": {
    "code_folding": [
     8
    ]
   },
   "outputs": [
    {
     "name": "stdout",
     "output_type": "stream",
     "text": [
      "initial accuracy: 6.203\n",
      ">epoch=100, learning_rate=0.500, accuracy=58.292\n",
      ">epoch=200, learning_rate=0.500, accuracy=67.255\n",
      ">epoch=300, learning_rate=0.500, accuracy=70.690\n",
      ">epoch=400, learning_rate=0.500, accuracy=72.967\n",
      ">epoch=500, learning_rate=0.500, accuracy=74.187\n",
      ">epoch=600, learning_rate=0.500, accuracy=74.925\n",
      ">epoch=700, learning_rate=0.500, accuracy=75.305\n",
      ">epoch=800, learning_rate=0.500, accuracy=75.657\n",
      ">epoch=900, learning_rate=0.500, accuracy=75.875\n",
      ">epoch=1000, learning_rate=0.500, accuracy=76.142\n",
      "training complete\n",
      "final accuracy: 76.142\n"
     ]
    },
    {
     "ename": "NameError",
     "evalue": "name 'os' is not defined",
     "output_type": "error",
     "traceback": [
      "\u001b[0;31m---------------------------------------------------------------------------\u001b[0m",
      "\u001b[0;31mNameError\u001b[0m                                 Traceback (most recent call last)",
      "\u001b[0;32m<ipython-input-13-fd009acf0495>\u001b[0m in \u001b[0;36m<module>\u001b[0;34m\u001b[0m\n\u001b[1;32m     11\u001b[0m \u001b[0;32mif\u001b[0m \u001b[0m__name__\u001b[0m \u001b[0;34m==\u001b[0m \u001b[0;34m'__main__'\u001b[0m\u001b[0;34m:\u001b[0m\u001b[0;34m\u001b[0m\u001b[0m\n\u001b[1;32m     12\u001b[0m \u001b[0;34m\u001b[0m\u001b[0m\n\u001b[0;32m---> 13\u001b[0;31m     \u001b[0mmain\u001b[0m\u001b[0;34m(\u001b[0m\u001b[0;34m)\u001b[0m\u001b[0;34m\u001b[0m\u001b[0m\n\u001b[0m",
      "\u001b[0;32m<ipython-input-13-fd009acf0495>\u001b[0m in \u001b[0;36mmain\u001b[0;34m()\u001b[0m\n\u001b[1;32m      5\u001b[0m     \u001b[0mtrainer\u001b[0m \u001b[0;34m=\u001b[0m \u001b[0mDigits_Trainer\u001b[0m\u001b[0;34m(\u001b[0m\u001b[0mdata\u001b[0m\u001b[0;34m,\u001b[0m \u001b[0mmodel\u001b[0m\u001b[0;34m)\u001b[0m\u001b[0;34m\u001b[0m\u001b[0m\n\u001b[1;32m      6\u001b[0m     \u001b[0mtrainer\u001b[0m\u001b[0;34m.\u001b[0m\u001b[0mtrain\u001b[0m\u001b[0;34m(\u001b[0m\u001b[0;36m0.5\u001b[0m\u001b[0;34m,\u001b[0m \u001b[0;36m10\u001b[0m\u001b[0;34m**\u001b[0m\u001b[0;36m3\u001b[0m\u001b[0;34m)\u001b[0m\u001b[0;34m\u001b[0m\u001b[0m\n\u001b[0;32m----> 7\u001b[0;31m     \u001b[0;32mif\u001b[0m \u001b[0;32mnot\u001b[0m \u001b[0mos\u001b[0m\u001b[0;34m.\u001b[0m\u001b[0mpath\u001b[0m\u001b[0;34m.\u001b[0m\u001b[0mexists\u001b[0m\u001b[0;34m(\u001b[0m\u001b[0;34m'./saved_models'\u001b[0m\u001b[0;34m)\u001b[0m\u001b[0;34m:\u001b[0m\u001b[0;34m\u001b[0m\u001b[0m\n\u001b[0m\u001b[1;32m      8\u001b[0m         \u001b[0mos\u001b[0m\u001b[0;34m.\u001b[0m\u001b[0mmkdir\u001b[0m\u001b[0;34m(\u001b[0m\u001b[0;34m'./saved_models'\u001b[0m\u001b[0;34m)\u001b[0m\u001b[0;34m\u001b[0m\u001b[0m\n\u001b[1;32m      9\u001b[0m     \u001b[0mmodel\u001b[0m\u001b[0;34m.\u001b[0m\u001b[0msave_model\u001b[0m\u001b[0;34m(\u001b[0m\u001b[0;34m'./saved_models/digits_model.pkl'\u001b[0m\u001b[0;34m)\u001b[0m\u001b[0;34m\u001b[0m\u001b[0m\n",
      "\u001b[0;31mNameError\u001b[0m: name 'os' is not defined"
     ]
    }
   ],
   "source": [
    "def main():\n",
    "\n",
    "    data = Digits_Data()\n",
    "    model = Digits_Model(n_data=data.data.shape[0], dim_input=data.data[0][0].shape[0], dim_hidden=16, dim_out=data.data[0][1].shape[0], activation1=sigmoid, activation2=softmax)\n",
    "    trainer = Digits_Trainer(data, model)\n",
    "    trainer.train(0.5, 10**3)\n",
    "    if not os.path.exists('./saved_models'):\n",
    "        os.mkdir('./saved_models')\n",
    "    model.save_model('./saved_models/digits_model.pkl')\n",
    "\n",
    "if __name__ == '__main__':\n",
    "\n",
    "    main()"
   ]
  }
 ],
 "metadata": {
  "kernelspec": {
   "display_name": "Python 3",
   "language": "python",
   "name": "python3"
  },
  "language_info": {
   "codemirror_mode": {
    "name": "ipython",
    "version": 3
   },
   "file_extension": ".py",
   "mimetype": "text/x-python",
   "name": "python",
   "nbconvert_exporter": "python",
   "pygments_lexer": "ipython3",
   "version": "3.6.0"
  }
 },
 "nbformat": 4,
 "nbformat_minor": 2
}
